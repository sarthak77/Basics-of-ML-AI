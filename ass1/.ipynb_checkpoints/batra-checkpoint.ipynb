{
 "cells": [
  {
   "cell_type": "markdown",
   "metadata": {
    "editable": false
   },
   "source": [
    "# Assignment 1\n",
    "This jupyter notebook is meant to be used in conjunction with the full questions in the assignment pdf.\n",
    "\n",
    "## Instructions\n",
    "- Write your code and analyses in the indicated cells.\n",
    "- Ensure that this notebook runs without errors when the cells are run in sequence.\n",
    "- Do not attempt to change the contents of the other cells.\n",
    "\n",
    "## Submission\n",
    "- Ensure that this notebook runs without errors when the cells are run in sequence.\n",
    "- Rename the notebook to `<roll_number>.ipynb` and submit ONLY the notebook file on moodle."
   ]
  },
  {
   "cell_type": "markdown",
   "metadata": {
    "editable": false
   },
   "source": [
    "### Environment setup\n",
    "\n",
    "The following code reads the train and test data (provided along with this template) and outputs the data and labels as numpy arrays. Use these variables in your code.\n",
    "\n",
    "---\n",
    "#### Note on conventions\n",
    "In mathematical notation, the convention is tha data matrices are column-indexed, which means that a input data $x$ has shape $[d, n]$, where $d$ is the number of dimensions and $n$ is the number of data points, respectively.\n",
    "\n",
    "Programming languages have a slightly different convention. Data matrices are of shape $[n, d]$. This has the benefit of being able to access the ith data point as a simple `data[i]`.\n",
    "\n",
    "What this means is that you need to be careful about your handling of matrix dimensions. For example, while the covariance matrix (of shape $[d,d]$) for input data $x$ is calculated as $(x-u)(x-u)^T$, while programming you would do $(x-u)^T(x-u)$ to get the correct output shapes."
   ]
  },
  {
   "cell_type": "code",
   "execution_count": 12,
   "metadata": {
    "editable": false,
    "scrolled": true
   },
   "outputs": [
    {
     "name": "stdout",
     "output_type": "stream",
     "text": [
      "(6000, 784) (1000, 784)\n",
      "(6000,) (1000,)\n"
     ]
    }
   ],
   "source": [
    "from __future__ import print_function\n",
    "\n",
    "import numpy as np\n",
    "import matplotlib.pyplot as plt\n",
    "\n",
    "def read_data(filename):\n",
    "    with open(filename, 'r') as f:\n",
    "        lines = f.readlines()\n",
    "    \n",
    "    num_points = len(lines)\n",
    "    dim_points = 28 * 28\n",
    "    data = np.empty((num_points, dim_points))\n",
    "    labels = np.empty(num_points)\n",
    "    \n",
    "    for ind, line in enumerate(lines):\n",
    "        num = line.split(',')\n",
    "        labels[ind] = int(num[0])\n",
    "        data[ind] = [ int(x) for x in num[1:] ]\n",
    "        \n",
    "    return (data, labels)\n",
    "\n",
    "train_data, train_labels = read_data(\"sample_train.csv\")\n",
    "test_data, test_labels = read_data(\"sample_test.csv\")\n",
    "print(train_data.shape, test_data.shape)\n",
    "print(train_labels.shape, test_labels.shape)"
   ]
  },
  {
   "cell_type": "markdown",
   "metadata": {
    "editable": false
   },
   "source": [
    "# Questions\n",
    "---\n",
    "## 1.3.1 Representation\n",
    "The next code cells, when run, should plot the eigen value spectrum of the covariance matrices corresponding to the mentioned samples. Normalize the eigen value spectrum and only show the first 100 values."
   ]
  },
  {
   "cell_type": "code",
   "execution_count": 14,
   "metadata": {},
   "outputs": [
    {
     "data": {
      "text/plain": [
       "[<matplotlib.lines.Line2D at 0x7f35ef50f2d0>]"
      ]
     },
     "execution_count": 14,
     "metadata": {},
     "output_type": "execute_result"
    },
    {
     "data": {
      "image/png": "[encoded data removed]",
      "text/plain": [
       "<Figure size 432x288 with 1 Axes>"
      ]
     },
     "metadata": {
      "needs_background": "light"
     },
     "output_type": "display_data"
    }
   ],
   "source": [
    "X = []\n",
    "index = 0\n",
    "for x in train_labels:\n",
    "    \n",
    "    if x == 4:\n",
    "        X.append(train_data[index])\n",
    "        \n",
    "    index = index+1\n",
    "\n",
    "Conv=np.cov(np.array(X).T)\n",
    "# print(len(Conv))\n",
    "v = np.linalg.eigvals(Conv)\n",
    "\n",
    "index = v.argsort()[::-1]\n",
    "v = v[index]\n",
    "\n",
    "mean = np.mean(v[0:100])\n",
    "b = v[0:100]/mean\n",
    "# print(b)\n",
    "plt.plot(b)\n"
   ]
  },
  {
   "cell_type": "code",
   "execution_count": 15,
   "metadata": {},
   "outputs": [
    {
     "data": {
      "text/plain": [
       "[<matplotlib.lines.Line2D at 0x7f35ef493190>]"
      ]
     },
     "execution_count": 15,
     "metadata": {},
     "output_type": "execute_result"
    },
    {
     "data": {
      "image/png": "[encoded data removed]",
      "text/plain": [
       "<Figure size 432x288 with 1 Axes>"
      ]
     },
     "metadata": {
      "needs_background": "light"
     },
     "output_type": "display_data"
    }
   ],
   "source": [
    "Y = []\n",
    "index = 0\n",
    "for x in train_labels:\n",
    "    if x == 5:\n",
    "        Y.append(train_data[index])\n",
    "    index = index+1\n",
    "\n",
    "Conv=np.cov(np.array(Y).T)\n",
    "v = np.linalg.eigvals(Conv)\n",
    "\n",
    "index = v.argsort()[::-1]\n",
    "v = v[index]\n",
    "\n",
    "mean = np.mean(v[0:100])\n",
    "b = v[0:100]/mean\n",
    "# print(b)\n",
    "plt.plot(b)"
   ]
  },
  {
   "cell_type": "code",
   "execution_count": 62,
   "metadata": {},
   "outputs": [
    {
     "data": {
      "text/plain": [
       "[<matplotlib.lines.Line2D at 0x7fea3ed44b10>]"
      ]
     },
     "execution_count": 62,
     "metadata": {},
     "output_type": "execute_result"
    },
    {
     "data": {
      "image/png": "[encoded data removed]",
      "text/plain": [
       "<Figure size 432x288 with 1 Axes>"
      ]
     },
     "metadata": {
      "needs_background": "light"
     },
     "output_type": "display_data"
    }
   ],
   "source": [
    "X = train_data\n",
    "Conv = np.cov(np.array(X).T)\n",
    "v = np.linalg.eigvals(Conv)\n",
    "\n",
    "index = v.argsort()[::-1]\n",
    "v = v[index]\n",
    "\n",
    "\n",
    "\n",
    "mean = np.mean(v[0:100])\n",
    "b = v[0:100]/mean\n",
    "# print(b)\n",
    "plt.plot(b)"
   ]
  },
  {
   "cell_type": "code",
   "execution_count": 61,
   "metadata": {},
   "outputs": [
    {
     "data": {
      "text/plain": [
       "[<matplotlib.lines.Line2D at 0x7fea3ed0a1d0>]"
      ]
     },
     "execution_count": 61,
     "metadata": {},
     "output_type": "execute_result"
    },
    {
     "data": {
      "image/png": "[encoded data removed]",
      "text/plain": [
       "<Figure size 432x288 with 1 Axes>"
      ]
     },
     "metadata": {
      "needs_background": "light"
     },
     "output_type": "display_data"
    }
   ],
   "source": [
    "temp = [i for i in range(0,6000)]\n",
    "X = [train_data[x] for x in np.random.choice(temp,3000)]\n",
    "\n",
    "Conv = np.cov(np.array(X).T)\n",
    "v = np.linalg.eigvals(Conv)\n",
    "\n",
    "index = v.argsort()[::-1]\n",
    "v = v[index]\n",
    "\n",
    "\n",
    "mean = np.mean(v[0:100])\n",
    "b = v[0:100]/mean\n",
    "# print(b)\n",
    "plt.plot(b)"
   ]
  },
  {
   "cell_type": "markdown",
   "metadata": {
    "editable": false
   },
   "source": [
    "### 1.3.1 Question 1\n",
    "- Are plots a and b different? Why?\n",
    "- Are plots b and c different? Why?\n",
    "- What are the approximate ranks of each plot?"
   ]
  },
  {
   "cell_type": "markdown",
   "metadata": {},
   "source": [
    "---\n",
    "Your answers here (double click to edit)\n",
    "\n",
    "---"
   ]
  },
  {
   "cell_type": "markdown",
   "metadata": {
    "editable": false
   },
   "source": [
    "### 1.3.1 Question 2\n",
    "- How many possible images could there be?\n",
    "- What percentage is accessible to us as MNIST data?\n",
    "- If we had acces to all the data, how would the eigen value spectrum of the covariance matrix look?"
   ]
  },
  {
   "cell_type": "markdown",
   "metadata": {},
   "source": [
    "---\n",
    "Your answers here (double click to edit)\n",
    "\n",
    "---"
   ]
  },
  {
   "cell_type": "markdown",
   "metadata": {
    "editable": false
   },
   "source": [
    "## 1.3.2 Linear Transformation\n",
    "---\n",
    "### 1.3.2 Question 1\n",
    "How does the eigen spectrum change if the original data was multiplied by an orthonormal matrix? Answer analytically and then also validate experimentally."
   ]
  },
  {
   "cell_type": "markdown",
   "metadata": {},
   "source": [
    "---\n",
    "Analytical answer here (double click to edit)\n",
    "\n",
    "---"
   ]
  },
  {
   "cell_type": "code",
   "execution_count": 60,
   "metadata": {},
   "outputs": [
    {
     "data": {
      "text/plain": [
       "[<matplotlib.lines.Line2D at 0x7fea3edde390>]"
      ]
     },
     "execution_count": 60,
     "metadata": {},
     "output_type": "execute_result"
    },
    {
     "data": {
      "image/png": "[encoded data removed]",
      "text/plain": [
       "<Figure size 432x288 with 1 Axes>"
      ]
     },
     "metadata": {
      "needs_background": "light"
     },
     "output_type": "display_data"
    }
   ],
   "source": [
    "# Experimental validation here.\n",
    "# Multiply your data (train_data) with an orthonormal matrix and plot the\n",
    "# eigen value specturm of the new covariance matrix.\n",
    "\n",
    "# code goes here\n",
    "\n",
    "H = np.random.rand(784,784)\n",
    "U,S,V = np.linalg.svd(H, full_matrices=False)\n",
    "\n",
    "X = np.dot(train_data,U)\n",
    "\n",
    "Conv = np.cov(np.array(X).T)\n",
    "v = np.linalg.eigvals(Conv)\n",
    "\n",
    "index = v.argsort()[::-1]\n",
    "v = v[index]\n",
    "\n",
    "\n",
    "mean = np.mean(v[0:100])\n",
    "b = v[0:100]/mean\n",
    "# print(b)\n",
    "plt.plot(b)\n",
    "\n",
    "\n",
    "# print(mat*(mat.T))"
   ]
  },
  {
   "cell_type": "markdown",
   "metadata": {
    "editable": false
   },
   "source": [
    "### 1.3.2 Question 2\n",
    "If  samples  were  multiplied  by  784 × 784  matrix  of rank 1 or 2, (rank deficient matrices), how will the eigen spectrum look like?"
   ]
  },
  {
   "cell_type": "markdown",
   "metadata": {},
   "source": [
    "---\n",
    "Your answer here (double click to edit)\n",
    "\n",
    "---"
   ]
  },
  {
   "cell_type": "markdown",
   "metadata": {
    "editable": false
   },
   "source": [
    "### 1.3.2 Question 3\n",
    "Project the original data into the first and second eigenvectors and plot in 2D"
   ]
  },
  {
   "cell_type": "code",
   "execution_count": 25,
   "metadata": {},
   "outputs": [
    {
     "data": {
      "text/plain": [
       "[<matplotlib.lines.Line2D at 0x7f5e48058410>,\n",
       " <matplotlib.lines.Line2D at 0x7f5e480584d0>]"
      ]
     },
     "execution_count": 25,
     "metadata": {},
     "output_type": "execute_result"
    },
    {
     "data": {
      "image/png": "[encoded data removed]",
      "text/plain": [
       "<Figure size 432x288 with 1 Axes>"
      ]
     },
     "metadata": {
      "needs_background": "light"
     },
     "output_type": "display_data"
    }
   ],
   "source": [
    "X = train_data\n",
    "Conv = np.cov(np.array(X).T)\n",
    "# print(len(Conv))\n",
    "eig_val,eig_vect = np.linalg.eig(Conv)\n",
    "\n",
    "index = eig_val.argsort()[-2:][::-1]\n",
    "eig_val = eig_val[index]\n",
    "eig_vect = eig_vect[:,index]\n",
    "\n",
    "# print(eig_vect[:,0])\n",
    "matrix_w = np.hstack((eig_vect[:,0].reshape(784,1),\n",
    "                      eig_vect[:,1].reshape(784,1)))\n",
    "\n",
    "\n",
    "# print(matrix_w)\n",
    "\n",
    "Y = X.dot(matrix_w)\n",
    "\n",
    "plt.plot(Y)\n",
    "# plt.scatter(Y[:,0],Y[:,1])\n",
    "# plt.plot(eig_vect[:,0])"
   ]
  },
  {
   "cell_type": "markdown",
   "metadata": {
    "editable": false
   },
   "source": [
    "## 1.3.3 Probabilistic View\n",
    "---\n",
    "In this section you will classify the test set by fitting multivariate gaussians on the train set, with different choices for decision boundaries. On running, your code should print the accuracy on your test set."
   ]
  },
  {
   "cell_type": "code",
   "execution_count": 124,
   "metadata": {},
   "outputs": [
    {
     "name": "stdout",
     "output_type": "stream",
     "text": [
      "744\n"
     ]
    }
   ],
   "source": [
    "# Print accuracy on the test set using MLE\n",
    "\n",
    "def mahala(x,mean,inverse):\n",
    "#     print(x-mean)\n",
    "    X = np.array(x-mean)\n",
    "#     print(X)\n",
    "#     inverse = np.linalg.pinv(Cov)\n",
    "    \n",
    "    d = ((np.dot(np.dot((X),inverse),(X).T)))\n",
    "    \n",
    "#     print(d)\n",
    "    return d\n",
    "    \n",
    "#     print(inverse[1][1])\n",
    "\n",
    "\n",
    "mean_array = []\n",
    "Cov_array = []\n",
    "Number = 10\n",
    "\n",
    "for i in range(Number):\n",
    "    Y = []\n",
    "    index = 0\n",
    "    for x in train_labels:\n",
    "    #     print(x)\n",
    "        if x == i:\n",
    "            Y.append(train_data[index])\n",
    "        index = index+1\n",
    "    Y = np.array(Y)    \n",
    "    mean_array.append(np.mean(Y,axis = 0))\n",
    "#     C = np.cov(Y.T)\n",
    "#     print(np.cov(np.transpose(Y)[:,0]))\n",
    "    Cov_array.append(np.cov(np.transpose(Y)))\n",
    "    \n",
    "inverse = []\n",
    "for i in range(Number):\n",
    "    inverse.append(np.linalg.pinv(Cov_array[i]))\n",
    "\n",
    "\n",
    "# print(mean_array)\n",
    "correct = 0\n",
    "for j in range(len(test_data)):\n",
    "    x = test_data[j]\n",
    "    results = []\n",
    "#     inverse = np.linalg.pinv(Cov_array[j])\n",
    "    for i in range(Number):\n",
    "        results.append(mahala(x,mean_array[i],inverse[i]))\n",
    "    ans = results.index(min(results))\n",
    "#     print(results)\n",
    "#     print(ans)\n",
    "#     print(test_labels[j])\n",
    "    if(ans == test_labels[j]):\n",
    "        correct = correct+1\n",
    "print(correct)"
   ]
  },
  {
   "cell_type": "code",
   "execution_count": 9,
   "metadata": {},
   "outputs": [],
   "source": [
    "# Print accuracy on the test set using MAP\n",
    "# (assume a reasonable prior and mention it in the comments)"
   ]
  },
  {
   "cell_type": "code",
   "execution_count": 143,
   "metadata": {},
   "outputs": [
    {
     "name": "stdout",
     "output_type": "stream",
     "text": [
      "837\n"
     ]
    }
   ],
   "source": [
    "# Print accuracy using Bayesian pairwise majority voting method\n",
    "mean_array = []\n",
    "Cov_array = []\n",
    "Number = 10\n",
    "\n",
    "for i in range(Number):\n",
    "    Y = []\n",
    "    index = 0\n",
    "    for x in train_labels:\n",
    "    #     print(x)\n",
    "        if x == i:\n",
    "            Y.append(train_data[index])\n",
    "        index = index+1\n",
    "    Y = np.array(Y)    \n",
    "    mean_array.append(np.mean(Y,axis = 0))\n",
    "#     C = np.cov(Y.T)\n",
    "#     print(np.cov(np.transpose(Y)[:,0]))\n",
    "    Cov_array.append(np.cov(np.transpose(Y)))\n",
    "\n",
    "inverse = []\n",
    "for i in range(Number):\n",
    "    for j in range(Number):\n",
    "        C = Cov_array[i]+Cov_array[j]\n",
    "        C = C/2\n",
    "        inverse.append(np.linalg.pinv(C))\n",
    "        \n",
    "\n",
    "correct = 0 \n",
    "for k in range(1000):\n",
    "    x = test_data[k]\n",
    "    results = []\n",
    "    Voting = np.zeros(10)\n",
    "    for i in range(Number):\n",
    "        for j in range(Number):\n",
    "            if i != j:\n",
    "                d1 = mahala(x,mean_array[i],inverse[10*i+j])\n",
    "                d2 = mahala(x,mean_array[j],inverse[10*i+j])\n",
    "                \n",
    "                if d1 < d2:\n",
    "                    Voting[i] = Voting[i]+1\n",
    "                else:\n",
    "                    Voting[j] = Voting[j]+1\n",
    "#                 print(d1,d2)\n",
    "    ans = Voting.argmax()\n",
    "    \n",
    "    if ans == test_labels[k]:\n",
    "        correct = correct + 1\n",
    "\n",
    "print(correct)"
   ]
  },
  {
   "cell_type": "code",
   "execution_count": 142,
   "metadata": {},
   "outputs": [
    {
     "name": "stdout",
     "output_type": "stream",
     "text": [
      "770\n"
     ]
    }
   ],
   "source": [
    "# Print accuracy using Simple Perpendicular Bisector majority voting method\n",
    "mean_array = []\n",
    "Cov_array = []\n",
    "Number = 10\n",
    "\n",
    "for i in range(Number):\n",
    "    Y = []\n",
    "    index = 0\n",
    "    for x in train_labels:\n",
    "    #     print(x)\n",
    "        if x == i:\n",
    "            Y.append(train_data[index])\n",
    "        index = index+1\n",
    "    Y = np.array(Y)    \n",
    "    mean_array.append(np.mean(Y,axis = 0))\n",
    "#     C = np.cov(Y.T)\n",
    "#     print(np.cov(np.transpose(Y)[:,0]))\n",
    "    Cov_array.append(np.cov(np.transpose(Y)))\n",
    "    \n",
    "correct = 0\n",
    "for k in range(len(test_data)):\n",
    "    x = test_data[k]\n",
    "    Voting = np.zeros(10)\n",
    "    \n",
    "    for i in range(Number):\n",
    "        for j in range(Number):\n",
    "            if i != j:\n",
    "                d1 = np.linalg.norm(x-mean_array[i])\n",
    "                d2 = np.linalg.norm(x-mean_array[j])\n",
    "                \n",
    "                if d1 < d2:\n",
    "                    Voting[i] = Voting[i]+1\n",
    "                else:\n",
    "                    Voting[j] = Voting[j]+1\n",
    "    ans = Voting.argmax()\n",
    "    \n",
    "    if ans == test_labels[k]:\n",
    "        correct = correct + 1\n",
    "    \n",
    "print(correct)\n"
   ]
  },
  {
   "cell_type": "markdown",
   "metadata": {
    "editable": false
   },
   "source": [
    "### 1.3.3 Question 4\n",
    "Compare performances and salient observations"
   ]
  },
  {
   "cell_type": "markdown",
   "metadata": {},
   "source": [
    "---\n",
    "Your analysis here (double click to edit)\n",
    "\n",
    "---"
   ]
  },
  {
   "cell_type": "markdown",
   "metadata": {
    "editable": false
   },
   "source": [
    "## 1.3.4 Nearest Neighbour based Tasks and Design\n",
    "---\n",
    "### 1.3.4 Question 1 : NN Classification with various K\n",
    "Implement a KNN classifier and print accuracies on the test set with K=1,3,7"
   ]
  },
  {
   "cell_type": "code",
   "execution_count": 15,
   "metadata": {},
   "outputs": [
    {
     "name": "stdout",
     "output_type": "stream",
     "text": [
      "[0.907 0.919 0.922]\n"
     ]
    }
   ],
   "source": [
    "def knn(X_train,X_test,Y_train,k):   \n",
    "    v = [(np.linalg.norm(X_train[i]-X_test),Y_train[i]) for i in range(0,6000)]\n",
    "    \n",
    "    v.sort(key = lambda x: x[0])\n",
    "        \n",
    "    z = v[0:k]\n",
    "        \n",
    "    Counter = [[0,0,100**100],[1,0,100**100],[2,0,100**100],[3,0,100**100],[4,0,100**100],[5,0,100**100],[6,0,100**100],[7,0,100**100],[8,0,100**100],[9,0,100**100]]\n",
    "    \n",
    "    for i in range(0,k):\n",
    "        label = int(z[i][1])\n",
    "        value = z[i][0]\n",
    "        Counter[label][1] = Counter[label][1]+1\n",
    "        Counter[label][2] = min(Counter[label][2],value)\n",
    "        \n",
    "    Counter.sort(key = lambda x: (-x[1],x[2]),reverse = False)\n",
    "       \n",
    "    return Counter[0][0]\n",
    "    \n",
    "\n",
    "\n",
    "k_vals = [1,3,5]\n",
    "\n",
    "X_train = train_data\n",
    "Y_train = train_labels\n",
    "\n",
    "X_test = test_data\n",
    "Y_test = test_labels\n",
    "\n",
    "correct = np.zeros(len(k_vals))\n",
    "\n",
    "for x in range(len(k_vals)):\n",
    "    for i in range(0,1000):\n",
    "            ans = knn(X_train,X_test[i,:],Y_train,k_vals[x])\n",
    "\n",
    "\n",
    "            if Y_test[i] == ans:\n",
    "                correct[x] = correct[x]+1\n",
    "            \n",
    "print(correct/1000)\n",
    "\n",
    "\n"
   ]
  },
  {
   "cell_type": "markdown",
   "metadata": {
    "editable": false
   },
   "source": [
    "### 1.3.4 Question 1 continued\n",
    "- Why / why not are the accuracies the same?\n",
    "- How do we identify the best K? Suggest a computational procedure with a logical explanation."
   ]
  },
  {
   "cell_type": "markdown",
   "metadata": {},
   "source": [
    "---\n",
    "Your analysis here (double click to edit)\n",
    "\n",
    "---"
   ]
  },
  {
   "cell_type": "markdown",
   "metadata": {
    "editable": false
   },
   "source": [
    "### 1.3.4 Question 2 :  Reverse NN based outlier detection\n",
    "A sample can be thought of as an outlier is it is NOT in the nearest neighbour set of anybody else. Expand this idea into an algorithm."
   ]
  },
  {
   "cell_type": "code",
   "execution_count": 2,
   "metadata": {
    "editable": false
   },
   "outputs": [
    {
     "name": "stdout",
     "output_type": "stream",
     "text": [
      "(20, 784)\n"
     ]
    }
   ],
   "source": [
    "# This cell reads mixed data containing both MNIST digits and English characters.\n",
    "# The labels for this mixed data are random and are hence ignored.\n",
    "mixed_data, _ = read_data(\"outliers.csv\")\n",
    "print(mixed_data.shape)"
   ]
  },
  {
   "cell_type": "markdown",
   "metadata": {
    "editable": false
   },
   "source": [
    "### 1.3.4 Question 3 : NN for regression\n",
    "Assume that each classID in the train set corresponds to a neatness score as:\n",
    "$$ neatness = \\frac{classID}{10} $$\n",
    "\n",
    "---\n",
    "Assume we had to predict the neatness score for each test sample using NN based techiniques on the train set. Describe the algorithm."
   ]
  },
  {
   "cell_type": "markdown",
   "metadata": {},
   "source": [
    "---\n",
    "Your algorithm here (double click to edit)\n",
    "\n",
    "---"
   ]
  },
  {
   "cell_type": "markdown",
   "metadata": {
    "editable": false
   },
   "source": [
    "### 1.3.4 Question 3 continued\n",
    "Validate your algorithm on the test set. This code should print mean absolute error on the test set, using the train set for NN based regression."
   ]
  },
  {
   "cell_type": "code",
   "execution_count": 14,
   "metadata": {},
   "outputs": [],
   "source": [
    "# Your code here"
   ]
  },
  {
   "cell_type": "markdown",
   "metadata": {
    "editable": false
   },
   "source": [
    "---\n",
    "# FOLLOW THE SUBMISSION INSTRUCTIONS\n",
    "---"
   ]
  }
 ],
 "metadata": {
  "kernelspec": {
   "display_name": "Python 2",
   "language": "python",
   "name": "python2"
  },
  "language_info": {
   "codemirror_mode": {
    "name": "ipython",
    "version": 3
   },
   "file_extension": ".py",
   "mimetype": "text/x-python",
   "name": "python",
   "nbconvert_exporter": "python",
   "pygments_lexer": "ipython3",
   "version": "3.6.8"
  }
 },
 "nbformat": 4,
 "nbformat_minor": 2
}
